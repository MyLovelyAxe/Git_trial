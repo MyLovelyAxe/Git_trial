{
 "cells": [
  {
   "cell_type": "code",
   "execution_count": 2,
   "id": "8c878be3",
   "metadata": {},
   "outputs": [
    {
     "name": "stdout",
     "output_type": "stream",
     "text": [
      "[[34  4 54]\n",
      " [ 4  6 66]\n",
      " [32  1 10]]\n",
      "[2 2 0]\n"
     ]
    }
   ],
   "source": [
    "import numpy as np\n",
    "a = np.array([[34,4,54], [4,6,66], [32,1,10]])\n",
    "print(a)\n",
    "print(np.argmax(a, axis = 1))"
   ]
  },
  {
   "cell_type": "code",
   "execution_count": 5,
   "id": "3cdf1023",
   "metadata": {},
   "outputs": [
    {
     "name": "stdout",
     "output_type": "stream",
     "text": [
      "[[0 1 2 3 4]\n",
      " [5 6 7 8 9]]\n",
      "[10 35]\n",
      "[ 5  7  9 11 13]\n"
     ]
    }
   ],
   "source": [
    "a = np.arange(10).reshape(2,5)\n",
    "print(a)\n",
    "print(np.sum(a, axis = 1)) \n",
    "#axis = 1代表按照第二维即低维来变化，即高维不变，低维变化，因此形成数组：\n",
    "#即a[0,0], a[0,1], a[0,2], a[0,3], a[0,4]\n",
    "#和a[1,0], a[1,1], a[1,2], a[1,3], a[1,4]\n",
    "#在该两组数字中进行sum操作，即按行相加\n",
    "print(np.sum(a, axis = 0))\n",
    "#axis = 0代表按照第一维即高维来变化，即低维不变，高维变化，因此形成数组：\n",
    "#即a[0,0], a[1,0]\n",
    "#和a[0,1], a[1,1]\n",
    "#和a[0,2], a[1,2]\n",
    "#和a[0,3], a[1,3]\n",
    "#和a[0,4], a[1,4]\n",
    "#在该五组数字中进行sum操作，即按列相加"
   ]
  },
  {
   "cell_type": "code",
   "execution_count": 3,
   "id": "26ba1143",
   "metadata": {},
   "outputs": [
    {
     "name": "stdout",
     "output_type": "stream",
     "text": [
      "[[ 2  3  4  5  6]\n",
      " [ 7  8  9 10 11]]\n"
     ]
    }
   ],
   "source": [
    "a = np.arange(2,12,1).reshape(2,5)\n",
    "print(a)"
   ]
  },
  {
   "cell_type": "code",
   "execution_count": 17,
   "id": "f1ea6c4b",
   "metadata": {},
   "outputs": [
    {
     "name": "stdout",
     "output_type": "stream",
     "text": [
      "[[[ 0  1  2]\n",
      "  [ 3  4  5]\n",
      "  [ 6  7  8]]\n",
      "\n",
      " [[ 9 10 11]\n",
      "  [12 13 14]\n",
      "  [15 16 17]]]\n",
      "[[ 3 12 21]\n",
      " [30 39 48]]\n"
     ]
    }
   ],
   "source": [
    "x = np.arange(0,18).reshape(2,3,3)\n",
    "print(x)\n",
    "# print(np.sum(x, axis = 0))\n",
    "# print(np.sum(x, axis = 1))\n",
    "print(np.sum(x, axis = 2))"
   ]
  },
  {
   "cell_type": "code",
   "execution_count": 20,
   "id": "ddd12d93",
   "metadata": {},
   "outputs": [
    {
     "name": "stdout",
     "output_type": "stream",
     "text": [
      "(2, 2)\n",
      "[[1 2]\n",
      " [2 3]]\n"
     ]
    }
   ],
   "source": [
    "w = np.array([np.arange(1,3), np.arange(2,4)])\n",
    "print(w.shape)\n",
    "print(w)"
   ]
  },
  {
   "cell_type": "code",
   "execution_count": 7,
   "id": "a3c8681c",
   "metadata": {},
   "outputs": [
    {
     "name": "stdout",
     "output_type": "stream",
     "text": [
      "[[ 1  2  3  4  5]\n",
      " [ 6  7  8  9 10]\n",
      " [11 12 13 14 15]\n",
      " [16 17 18 19 20]\n",
      " [21 22 23 24 25]]\n",
      "[[0, 1, 2], [0, 1, 2]]\n",
      "[[0, 1, 2], [0, 1, 2]]\n",
      "[[ 1  7 13]\n",
      " [ 1  7 13]] (2, 3)\n"
     ]
    }
   ],
   "source": [
    "q = np.arange(1,26).reshape(5,5)\n",
    "print(q)\n",
    "rows = [[0,1,2],[0,1,2]]\n",
    "cols = [[0,1,2],[0,1,2]]\n",
    "print(rows)\n",
    "print(cols)\n",
    "print(q[rows,cols], q[rows,cols].shape)"
   ]
  },
  {
   "cell_type": "code",
   "execution_count": 14,
   "id": "845f14cd",
   "metadata": {},
   "outputs": [
    {
     "name": "stdout",
     "output_type": "stream",
     "text": [
      "[[ 0  1  2  3  4  5  6  7  8]\n",
      " [ 9 10 11 12 13 14 15 16 17]\n",
      " [18 19 20 21 22 23 24 25 26]\n",
      " [27 28 29 30 31 32 33 34 35]\n",
      " [36 37 38 39 40 41 42 43 44]\n",
      " [45 46 47 48 49 50 51 52 53]]\n",
      "\n",
      "[0 1 2]\n",
      "\n",
      "[[11 12 14]\n",
      " [29 30 32]\n",
      " [38 39 41]]\n"
     ]
    }
   ],
   "source": [
    "j = np.arange(54).reshape(6,9)\n",
    "print(j)\n",
    "print()\n",
    "print(j[j<3])  #布尔索引\n",
    "print()\n",
    "n = np.ix_([1,3,4],[2,3,5])  #笛卡尔积，可以索引不相邻的行列，例如：取第1,3,4行，第2,3,5列，即np.ix_(row_lst,col_lst)\n",
    "j_ix = j[n]\n",
    "print(j_ix)"
   ]
  },
  {
   "cell_type": "code",
   "execution_count": 13,
   "id": "d936adda",
   "metadata": {},
   "outputs": [
    {
     "name": "stdout",
     "output_type": "stream",
     "text": [
      "[[0 1 2]\n",
      " [3 4 5]\n",
      " [6 7 8]]\n",
      "1898158023104\n"
     ]
    }
   ],
   "source": [
    "g = np.arange(9).reshape(3,3)\n",
    "print(g)\n",
    "print(id(g))"
   ]
  },
  {
   "cell_type": "code",
   "execution_count": 20,
   "id": "c914bf28",
   "metadata": {},
   "outputs": [
    {
     "name": "stdout",
     "output_type": "stream",
     "text": [
      "[[ 0  1  2  3 98  5  6  7  8]] 1898158023664\n"
     ]
    }
   ],
   "source": [
    "g.flatten()[4] = 77\n",
    "print(g, id(g.flatten()))"
   ]
  },
  {
   "cell_type": "code",
   "execution_count": 19,
   "id": "ce58eb83",
   "metadata": {},
   "outputs": [
    {
     "name": "stdout",
     "output_type": "stream",
     "text": [
      "[[ 0  1  2  3 98  5  6  7  8]] 1898158024304\n"
     ]
    }
   ],
   "source": [
    "g.reshape(1,9)[:,4] = 98   #视图形状改变不会影响原始数据形状，但是视图修改元素会将原始数据元素一并修改\n",
    "print(g, id(g.reshape(1,9)))"
   ]
  },
  {
   "cell_type": "code",
   "execution_count": 39,
   "id": "f243d924",
   "metadata": {},
   "outputs": [
    {
     "name": "stdout",
     "output_type": "stream",
     "text": [
      "[[ 0  1  2  3  4  5]\n",
      " [ 6  7  8  9 10 11]\n",
      " [ 0  1  2  3  4  5]\n",
      " [12 13 14 15 16 17]\n",
      " [18 19 20 21 22 23]]\n",
      "[ 0  1  2  3  4  5  6  7  8  9 10 11 12 13 14 15 16 17 18 19 20 21 22 23]\n",
      "0\n",
      "1\n",
      "2\n",
      "3\n",
      "4\n",
      "5\n",
      "6\n",
      "7\n",
      "8\n",
      "9\n",
      "10\n",
      "11\n",
      "0\n",
      "1\n",
      "2\n",
      "3\n",
      "4\n",
      "5\n",
      "12\n",
      "13\n",
      "14\n",
      "15\n",
      "16\n",
      "17\n",
      "18\n",
      "19\n",
      "20\n",
      "21\n",
      "22\n",
      "23\n"
     ]
    }
   ],
   "source": [
    "j = np.arange(24).reshape(4,6)\n",
    "j_append = np.arange(6).reshape(1,6)\n",
    "u = np.insert(j,2, j_append, axis = 0)\n",
    "print(u)\n",
    "print(np.unique(u))\n",
    "for items in u:\n",
    "    for item in items:\n",
    "        print(item)"
   ]
  },
  {
   "cell_type": "code",
   "execution_count": 8,
   "id": "357fd10e",
   "metadata": {},
   "outputs": [
    {
     "name": "stdout",
     "output_type": "stream",
     "text": [
      "[[[ 0  1  2]\n",
      "  [ 3  4  5]]\n",
      "\n",
      " [[ 6  7  8]\n",
      "  [ 9 10 11]]] 1772526613488\n",
      "[[ 3 12]\n",
      " [21 30]]\n"
     ]
    }
   ],
   "source": [
    "import numpy as np\n",
    "a = np.arange(12).reshape(2,2,3)\n",
    "b = np.copy(a)\n",
    "print(a,id(a))\n",
    "print(np.sum(a, axis = 2))"
   ]
  },
  {
   "cell_type": "code",
   "execution_count": 16,
   "id": "0e1c438e",
   "metadata": {},
   "outputs": [
    {
     "name": "stdout",
     "output_type": "stream",
     "text": [
      "[[ 0  1  2  3]\n",
      " [ 4  5  6  7]\n",
      " [ 8  9 10 11]]\n",
      "\n",
      "[[13 14 15 16]\n",
      " [17 18 19 20]\n",
      " [21 22 23 24]]\n",
      "\n",
      "[[[ 0 13]\n",
      "  [ 1 14]\n",
      "  [ 2 15]\n",
      "  [ 3 16]]\n",
      "\n",
      " [[ 4 17]\n",
      "  [ 5 18]\n",
      "  [ 6 19]\n",
      "  [ 7 20]]\n",
      "\n",
      " [[ 8 21]\n",
      "  [ 9 22]\n",
      "  [10 23]\n",
      "  [11 24]]]\n"
     ]
    }
   ],
   "source": [
    "import numpy as np\n",
    "i = np.arange(12).reshape(3,4)\n",
    "j = np.arange(13,25).reshape(3,4)\n",
    "print(i)\n",
    "print()\n",
    "print(j)\n",
    "print()\n",
    "r = np.dstack((i,j))\n",
    "print(r)"
   ]
  },
  {
   "cell_type": "code",
   "execution_count": 12,
   "id": "7b0ca4ad",
   "metadata": {},
   "outputs": [
    {
     "name": "stdout",
     "output_type": "stream",
     "text": [
      "3139896587968 <class 'numpy.ndarray'>\n",
      "[[ 0  1  2  3]\n",
      " [ 4  5  6  7]\n",
      " [ 8  9 10 11]] 3139896587968 <class 'numpy.ndarray'>\n",
      "[[ 0  1  2]\n",
      " [ 3  4  5]\n",
      " [ 6  7  8]\n",
      " [ 9 10 11]] 3139896587488 <class 'numpy.ndarray'>\n"
     ]
    },
    {
     "data": {
      "text/plain": [
       "array([[ 42,  48,  54],\n",
       "       [114, 136, 158],\n",
       "       [186, 224, 262]])"
      ]
     },
     "execution_count": 12,
     "metadata": {},
     "output_type": "execute_result"
    }
   ],
   "source": [
    "import numpy as np\n",
    "a = np.arange(12).reshape(3,4)\n",
    "print(id(a),type(a))\n",
    "b = np.arange(12).reshape(4,3)\n",
    "print(a, id(a),type(a))\n",
    "print(b, id(b),type(b))\n",
    "a.dot(b)"
   ]
  },
  {
   "cell_type": "markdown",
   "id": "e3f508a9",
   "metadata": {},
   "source": [
    "#### numpy.dot() details"
   ]
  },
  {
   "cell_type": "code",
   "execution_count": 1,
   "id": "313f5e83",
   "metadata": {},
   "outputs": [
    {
     "name": "stdout",
     "output_type": "stream",
     "text": [
      "(4,)\n",
      "(4, 2)\n",
      "(2,)\n"
     ]
    }
   ],
   "source": [
    "import numpy as np\n",
    "a = np.arange(0,4,1)\n",
    "print(a.shape)\n",
    "b = np.arange(0,8,1).reshape(4,2)\n",
    "print(b.shape)\n",
    "res = np.dot(a,b)\n",
    "print(res.shape)"
   ]
  },
  {
   "cell_type": "code",
   "execution_count": null,
   "id": "bb5a98b8",
   "metadata": {},
   "outputs": [],
   "source": []
  }
 ],
 "metadata": {
  "kernelspec": {
   "display_name": "Python 3 (ipykernel)",
   "language": "python",
   "name": "python3"
  },
  "language_info": {
   "codemirror_mode": {
    "name": "ipython",
    "version": 3
   },
   "file_extension": ".py",
   "mimetype": "text/x-python",
   "name": "python",
   "nbconvert_exporter": "python",
   "pygments_lexer": "ipython3",
   "version": "3.9.12"
  }
 },
 "nbformat": 4,
 "nbformat_minor": 5
}
